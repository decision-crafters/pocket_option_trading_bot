{
 "cells": [
  {
   "cell_type": "code",
   "execution_count": 1,
   "metadata": {},
   "outputs": [],
   "source": [
    "# Cell 1: Import necessary libraries\n",
    "import os\n",
    "import requests\n",
    "import time\n",
    "import csv"
   ]
  },
  {
   "cell_type": "code",
   "execution_count": 2,
   "metadata": {},
   "outputs": [],
   "source": [
    "# Cell 2: Define the sentiment analysis function\n",
    "def analyze_sentiment(json_response, target_ticker):\n",
    "    print(f\"Starting sentiment analysis for ticker: {target_ticker}\")\n",
    "    \n",
    "    if not json_response or \"feed\" not in json_response:\n",
    "        print(\"No valid data in JSON response.\")\n",
    "        return \"No data available for analysis\"\n",
    "\n",
    "    sentiment_label = \"Neutral\"  # Default sentiment if no stronger signals found\n",
    "    highest_relevance = 0  # Track the highest relevance score\n",
    "\n",
    "    for item in json_response.get(\"feed\", []):\n",
    "        for ticker_data in item.get(\"ticker_sentiment\", []):\n",
    "            if ticker_data[\"ticker\"] == \"FOREX:\"+str(target_ticker):\n",
    "                relevance_score = float(ticker_data.get(\"relevance_score\", 0))\n",
    "                sentiment_score = float(ticker_data.get(\"ticker_sentiment_score\", 0))\n",
    "                \n",
    "                if relevance_score > highest_relevance:\n",
    "                    highest_relevance = relevance_score\n",
    "                    if sentiment_score <= -0.35:\n",
    "                        sentiment_label = \"Bearish\"\n",
    "                    elif -0.35 < sentiment_score <= -0.15:\n",
    "                        sentiment_label = \"Somewhat-Bearish\"\n",
    "                    elif -0.15 < sentiment_score < 0.15:\n",
    "                        sentiment_label = \"Neutral\"\n",
    "                    elif 0.15 <= sentiment_score < 0.35:\n",
    "                        sentiment_label = \"Somewhat_Bullish\"\n",
    "                    elif sentiment_score >= 0.35:\n",
    "                        sentiment_label = \"Bullish\"\n",
    "                    print(f\"Updated sentiment label to {sentiment_label} based on relevance and score\")\n",
    "\n",
    "    print(f\"Final sentiment label for {target_ticker}: {sentiment_label}\")\n",
    "    return sentiment_label"
   ]
  },
  {
   "cell_type": "code",
   "execution_count": 3,
   "metadata": {},
   "outputs": [],
   "source": [
    "# Cell 3: Define the function to fetch sentiment data\n",
    "def fetch_sentiment_data(api_endpoint, ticker, api_key, sort='LATEST', limit=50):\n",
    "    params = {\n",
    "        'function': 'NEWS_SENTIMENT',\n",
    "        'tickers': ticker,\n",
    "        'apikey': api_key,\n",
    "        'sort': sort,\n",
    "        'limit': limit\n",
    "    }\n",
    "    response = requests.get(api_endpoint, params=params)\n",
    "    if response.status_code == 200:\n",
    "        return response.json()\n",
    "    else:\n",
    "        return f\"Error fetching data: {response.status_code}\"\n"
   ]
  },
  {
   "cell_type": "code",
   "execution_count": 4,
   "metadata": {},
   "outputs": [],
   "source": [
    "# Cell 4: Set API endpoint and key, and define tickers\n",
    "api_endpoint = \"https://www.alphavantage.co/query\"\n",
    "api_key = os.environ.get(\"ALPHA_VANTAGE_API_KEY\")\n",
    "tickers = [\"EUR\", \"USD\", \"JPY\", \"GBP\", \"CAD\", \"AUD\", \"CHF\", \"NZD\", \"RUB\"]\n"
   ]
  },
  {
   "cell_type": "code",
   "execution_count": 5,
   "metadata": {},
   "outputs": [
    {
     "name": "stdout",
     "output_type": "stream",
     "text": [
      "Fetching sentiment data for: EUR\n",
      "Starting sentiment analysis for ticker: EUR\n",
      "No valid data in JSON response.\n",
      "Sentiment for EUR: No data available for analysis\n",
      "Sentiment data saved to CSV file.\n"
     ]
    },
    {
     "ename": "KeyboardInterrupt",
     "evalue": "",
     "output_type": "error",
     "traceback": [
      "\u001b[0;31m---------------------------------------------------------------------------\u001b[0m",
      "\u001b[0;31mKeyboardInterrupt\u001b[0m                         Traceback (most recent call last)",
      "Cell \u001b[0;32mIn[5], line 13\u001b[0m\n\u001b[1;32m     11\u001b[0m     \u001b[38;5;28mprint\u001b[39m(\u001b[38;5;124mf\u001b[39m\u001b[38;5;124m\"\u001b[39m\u001b[38;5;124mSentiment for \u001b[39m\u001b[38;5;132;01m{\u001b[39;00mbase_ticker\u001b[38;5;132;01m}\u001b[39;00m\u001b[38;5;124m: \u001b[39m\u001b[38;5;132;01m{\u001b[39;00mbase_sentiment\u001b[38;5;132;01m}\u001b[39;00m\u001b[38;5;124m\"\u001b[39m)\n\u001b[1;32m     12\u001b[0m     \u001b[38;5;28mprint\u001b[39m(\u001b[38;5;124m\"\u001b[39m\u001b[38;5;124mSentiment data saved to CSV file.\u001b[39m\u001b[38;5;124m\"\u001b[39m)\n\u001b[0;32m---> 13\u001b[0m \u001b[43mtime\u001b[49m\u001b[38;5;241;43m.\u001b[39;49m\u001b[43msleep\u001b[49m\u001b[43m(\u001b[49m\u001b[38;5;241;43m45\u001b[39;49m\u001b[43m)\u001b[49m\n",
      "\u001b[0;31mKeyboardInterrupt\u001b[0m: "
     ]
    }
   ],
   "source": [
    "# Cell 5: Fetch sentiment data and analyze it\n",
    "for base_ticker in tickers:\n",
    "    print(f\"Fetching sentiment data for: {base_ticker}\")\n",
    "    json_response = fetch_sentiment_data(api_endpoint, \"FOREX:\"+base_ticker, api_key)\n",
    "    if json_response is None:\n",
    "        print(\"Failed to fetch sentiment data.\")\n",
    "    base_sentiment = analyze_sentiment(json_response, base_ticker)\n",
    "    with open('sentiment_data.csv', 'a', newline='') as file:\n",
    "        writer = csv.writer(file)\n",
    "        writer.writerow([base_ticker, base_sentiment])\n",
    "        print(f\"Sentiment for {base_ticker}: {base_sentiment}\")\n",
    "        print(\"Sentiment data saved to CSV file.\")\n",
    "    time.sleep(45)"
   ]
  },
  {
   "cell_type": "code",
   "execution_count": null,
   "metadata": {},
   "outputs": [],
   "source": []
  }
 ],
 "metadata": {
  "kernelspec": {
   "display_name": "pocket_option_trading_bot",
   "language": "python",
   "name": "python3"
  },
  "language_info": {
   "codemirror_mode": {
    "name": "ipython",
    "version": 3
   },
   "file_extension": ".py",
   "mimetype": "text/x-python",
   "name": "python",
   "nbconvert_exporter": "python",
   "pygments_lexer": "ipython3",
   "version": "3.12.3"
  }
 },
 "nbformat": 4,
 "nbformat_minor": 2
}
