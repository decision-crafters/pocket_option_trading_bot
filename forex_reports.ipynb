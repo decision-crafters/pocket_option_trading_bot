{
 "cells": [
  {
   "cell_type": "code",
   "execution_count": null,
   "metadata": {},
   "outputs": [],
   "source": [
    "!pip install -q -r requirements.txt"
   ]
  },
  {
   "cell_type": "code",
   "execution_count": null,
   "metadata": {},
   "outputs": [],
   "source": [
    "# Cell 1: Import necessary libraries\n",
    "import os\n",
    "import requests\n",
    "import time\n",
    "import csv\n",
    "import sys\n",
    "import pandas as pd\n",
    "import requests\n",
    "import openai\n",
    "import datetime\n",
    "#import markdown"
   ]
  },
  {
   "cell_type": "code",
   "execution_count": null,
   "metadata": {},
   "outputs": [],
   "source": [
    "import os\n",
    "env_vars = !cat .env\n",
    "for var in env_vars:\n",
    "    key, value = var.split('=')\n",
    "    print(key)\n",
    "    #print(value)\n",
    "    os.environ[key] = value"
   ]
  },
  {
   "cell_type": "code",
   "execution_count": null,
   "metadata": {},
   "outputs": [],
   "source": [
    "# Cell 2: Define the sentiment analysis function\n",
    "def analyze_sentiment(json_response, target_ticker):\n",
    "    print(f\"Starting sentiment analysis for ticker: {target_ticker}\")\n",
    "    \n",
    "    if not json_response or \"feed\" not in json_response:\n",
    "        print(\"No valid data in JSON response.\")\n",
    "        sys.exit(1)\n",
    "        return \"No data available for analysis\"\n",
    "\n",
    "    sentiment_label = \"Neutral\"  # Default sentiment if no stronger signals found\n",
    "    highest_relevance = 0  # Track the highest relevance score\n",
    "\n",
    "    for item in json_response.get(\"feed\", []):\n",
    "        for ticker_data in item.get(\"ticker_sentiment\", []):\n",
    "            if ticker_data[\"ticker\"] == \"FOREX:\"+str(target_ticker):\n",
    "                relevance_score = float(ticker_data.get(\"relevance_score\", 0))\n",
    "                sentiment_score = float(ticker_data.get(\"ticker_sentiment_score\", 0))\n",
    "                \n",
    "                if relevance_score > highest_relevance:\n",
    "                    highest_relevance = relevance_score\n",
    "                    if sentiment_score <= -0.35:\n",
    "                        sentiment_label = \"Bearish\"\n",
    "                    elif -0.35 < sentiment_score <= -0.15:\n",
    "                        sentiment_label = \"Somewhat-Bearish\"\n",
    "                    elif -0.15 < sentiment_score < 0.15:\n",
    "                        sentiment_label = \"Neutral\"\n",
    "                    elif 0.15 <= sentiment_score < 0.35:\n",
    "                        sentiment_label = \"Somewhat_Bullish\"\n",
    "                    elif sentiment_score >= 0.35:\n",
    "                        sentiment_label = \"Bullish\"\n",
    "                    print(f\"Updated sentiment label to {sentiment_label} based on relevance and score\")\n",
    "\n",
    "    print(f\"Final sentiment label for {target_ticker}: {sentiment_label}\")\n",
    "    return sentiment_label"
   ]
  },
  {
   "cell_type": "code",
   "execution_count": null,
   "metadata": {},
   "outputs": [],
   "source": [
    "# Cell 3: Define the function to fetch sentiment data\n",
    "def fetch_sentiment_data(api_endpoint, ticker, api_key, sort='LATEST', limit=50):\n",
    "    params = {\n",
    "        'function': 'NEWS_SENTIMENT',\n",
    "        'tickers': ticker,\n",
    "        'apikey': api_key,\n",
    "        'sort': sort,\n",
    "        'limit': limit\n",
    "    }\n",
    "    response = requests.get(api_endpoint, params=params)\n",
    "    if response.status_code == 200:\n",
    "        return response.json()\n",
    "    else:\n",
    "        return f\"Error fetching data: {response.status_code}\"\n"
   ]
  },
  {
   "cell_type": "code",
   "execution_count": null,
   "metadata": {},
   "outputs": [],
   "source": [
    "# Cell 4: Set API endpoint and key, and define tickers\n",
    "api_endpoint = \"https://www.alphavantage.co/query\"\n",
    "api_key = os.environ.get(\"ALPHA_VANTAGE_API_KEY\")\n",
    "#print(api_key)\n",
    "tickers = [\"EUR\", \"USD\", \"JPY\", \"GBP\", \"CAD\", \"AUD\", \"CHF\", \"NZD\", \"RUB\"]\n"
   ]
  },
  {
   "cell_type": "code",
   "execution_count": null,
   "metadata": {},
   "outputs": [],
   "source": [
    "# Cell 5: Fetch sentiment data and analyze it\n",
    "for base_ticker in tickers:\n",
    "    print(f\"Fetching sentiment data for: {base_ticker}\")\n",
    "    json_response = fetch_sentiment_data(api_endpoint, \"FOREX:\"+base_ticker, api_key)\n",
    "    if json_response is None:\n",
    "        print(\"Failed to fetch sentiment data.\")\n",
    "    base_sentiment = analyze_sentiment(json_response, base_ticker)\n",
    "    with open('sentiment_data.csv', 'a', newline='') as file:\n",
    "        writer = csv.writer(file)\n",
    "        writer.writerow([base_ticker, base_sentiment])\n",
    "        print(f\"Sentiment for {base_ticker}: {base_sentiment}\")\n",
    "        print(\"Sentiment data saved to CSV file.\")\n",
    "    time.sleep(45)"
   ]
  },
  {
   "cell_type": "code",
   "execution_count": 9,
   "metadata": {},
   "outputs": [],
   "source": [
    "# Read data from CSV file\n",
    "df = pd.read_csv('sentiment_data.csv', header=None, names=['Currency', 'Sentiment'])\n",
    "\n",
    "# Create DataFrame from sample data\n",
    "df = pd.DataFrame(df)"
   ]
  },
  {
   "cell_type": "code",
   "execution_count": 10,
   "metadata": {},
   "outputs": [],
   "source": [
    "# Corrected function to determine the action\n",
    "def determine_action(sentiment1, sentiment2):\n",
    "    # Define the strength of sentiment\n",
    "    sentiment_strength = {\n",
    "        'Bearish': 1, \n",
    "        'Somewhat-Bearish': 2, \n",
    "        'Somewhat_Bearish': 2, \n",
    "        'Neutral': 3, \n",
    "        'Somewhat_Bullish': 4, \n",
    "        'Somewhat_Bullish': 4, \n",
    "        'Bullish': 5\n",
    "    }\n",
    "    \n",
    "    # Determine the action based on the relative strength of sentiment\n",
    "    if sentiment_strength[sentiment1] > sentiment_strength[sentiment2]:\n",
    "        return \"Buy\"\n",
    "    elif sentiment_strength[sentiment1] < sentiment_strength[sentiment2]:\n",
    "        return \"Sell\"\n",
    "    else:\n",
    "        return \"Neutral\""
   ]
  },
  {
   "cell_type": "code",
   "execution_count": 11,
   "metadata": {},
   "outputs": [],
   "source": [
    "# Create list to hold data\n",
    "pair_data = []\n",
    "\n",
    "# Populate list with pair data\n",
    "for index, row in df.iterrows():\n",
    "    for index2, row2 in df.iterrows():\n",
    "        if row['Currency'] != row2['Currency']:\n",
    "            action = determine_action(row['Sentiment'], row2['Sentiment'])\n",
    "            pair_data.append({\n",
    "                \"Currency 1\": row['Currency'],\n",
    "                \"Sentiment 1\": row['Sentiment'],\n",
    "                \"Currency 2\": row2['Currency'],\n",
    "                \"Sentiment 2\": row2['Sentiment'],\n",
    "                \"Action\": action\n",
    "            })\n"
   ]
  },
  {
   "cell_type": "code",
   "execution_count": 12,
   "metadata": {},
   "outputs": [],
   "source": [
    "\n",
    "# Create DataFrame from list\n",
    "result_df = pd.DataFrame(pair_data)\n",
    "\n",
    "# Add columns based on actions\n",
    "result_df['Consider Trading Now'] = result_df['Action'].apply(lambda x: 'Yes' if x in ['Buy', 'Sell'] else 'No')\n",
    "result_df['Consider Buy Now'] = result_df['Action'].apply(lambda x: 'Yes' if x == 'Buy' else 'No')\n",
    "result_df['Consider Sell Now'] = result_df['Action'].apply(lambda x: 'Yes' if x == 'Sell' else 'No')\n",
    "\n",
    "# Export to CSV\n",
    "result_df.to_csv('output.csv', index=False)"
   ]
  },
  {
   "cell_type": "code",
   "execution_count": 14,
   "metadata": {},
   "outputs": [
    {
     "name": "stdout",
     "output_type": "stream",
     "text": [
      "Generating report...\n"
     ]
    }
   ],
   "source": [
    "# Function to generate report using OpenAI SDK\n",
    "def generate_report(dataframe):\n",
    "    print(\"Generating report...\")\n",
    "    api_key = os.getenv('DEEPSEEK_API_KEY')\n",
    "    if not api_key:\n",
    "        raise ValueError(\"DEEPSEEK_API_KEY environment variable is not set\")\n",
    "    \n",
    "    #print(\"API KEY::\", api_key)\n",
    "\n",
    "    client = openai.OpenAI(api_key=api_key, base_url=\"https://api.deepseek.com\")\n",
    "\n",
    "    now = datetime.datetime.now(datetime.timezone.utc)\n",
    "    market_time = now.strftime('%H:%M UTC')\n",
    "    \n",
    "    # Determine the active market based on the current UTC time\n",
    "    if 21 <= now.hour < 6:  # Sydney session: 9:00 pm to 6:00 am UTC\n",
    "        active_market = \"Sydney\"\n",
    "    elif 0 <= now.hour < 9:  # Tokyo session: 12:00 am to 9:00 am UTC\n",
    "        active_market = \"Tokyo\"\n",
    "    elif 7 <= now.hour < 16:  # London session: 7:00 am to 4:00 pm UTC\n",
    "        active_market = \"London\"\n",
    "    elif 13 <= now.hour < 22:  # New York session: 1:00 pm to 10:00 pm UTC\n",
    "        active_market = \"New York\"\n",
    "    else:\n",
    "        active_market = \"Other\"\n",
    "\n",
    "    #prompt = (f\"Assume the role of a forex financial analyst providing a report of trade recommendations for {now.strftime('%Y-%m-%d %H:%M')} \"\n",
    "    #         f\"based off news sentiment. Consider the market time {market_time} and the active market ({active_market}) when formulating your recommendations.\")\n",
    "    prompt = (f\"Forex Trading Recommendations for {now.strftime('%Y-%m-%d %H:%M')} \"\n",
    "          f\"Based on Current News Sentiment Analysis During {market_time} in the {active_market} Session. \"\n",
    "          f\"Explore up-to-date foreign exchange strategies and insights derived from today's news sentiment.\"\n",
    "          f\"The title should include what market is currently active and the time of the report in a user frindly format\"\n",
    "          f\"Make the title the first line of the file. The word length should be between  1,500 to 2,500 words.\"\n",
    "          f\"General SEO practices advise keeping your title tag’s length to be below 60 characters in length. Most search engines display around 50 to 60 characters in a title.\")\n",
    "    \n",
    "    messages = [\n",
    "        {\"role\": \"system\", \"content\": \"You are a helpful assistant\"},\n",
    "        {\"role\": \"user\", \"content\": prompt + \"\\n\\n\" + dataframe.to_string()}\n",
    "    ]\n",
    "\n",
    "    try:\n",
    "        response = client.chat.completions.create(\n",
    "            model=\"deepseek-chat\",\n",
    "            messages=messages,\n",
    "            stream=False\n",
    "        )\n",
    "        return response.choices[0].message.content\n",
    "    except openai.AuthenticationError as e:\n",
    "        print(f\"Authentication error: {e}\")\n",
    "        return None\n",
    "    except Exception as e:\n",
    "        print(f\"An error occurred: {e}\")\n",
    "        return None\n",
    "\n",
    "# Generate report\n",
    "report = generate_report(result_df)\n",
    "\n",
    "# Save or print the report\n",
    "if report:\n",
    "    with open('report.txt', 'w') as file:\n",
    "        file.write(report)\n",
    "else:\n",
    "    print(\"Failed to generate report.\")"
   ]
  },
  {
   "cell_type": "code",
   "execution_count": null,
   "metadata": {},
   "outputs": [],
   "source": [
    "print(\"Report generated and saved as 'report.txt'\")\n",
    "Markdown(report)\n",
    "print(\"Output data saved as 'output.csv'\")\n",
    "print(result_df)"
   ]
  },
  {
   "cell_type": "code",
   "execution_count": null,
   "metadata": {},
   "outputs": [],
   "source": []
  },
  {
   "cell_type": "code",
   "execution_count": null,
   "metadata": {},
   "outputs": [],
   "source": []
  },
  {
   "cell_type": "code",
   "execution_count": null,
   "metadata": {},
   "outputs": [],
   "source": []
  },
  {
   "cell_type": "code",
   "execution_count": null,
   "metadata": {},
   "outputs": [],
   "source": []
  }
 ],
 "metadata": {
  "kernelspec": {
   "display_name": "pocket_option_trading_bot",
   "language": "python",
   "name": "python3"
  },
  "language_info": {
   "codemirror_mode": {
    "name": "ipython",
    "version": 3
   },
   "file_extension": ".py",
   "mimetype": "text/x-python",
   "name": "python",
   "nbconvert_exporter": "python",
   "pygments_lexer": "ipython3",
   "version": "3.12.undefined"
  }
 },
 "nbformat": 4,
 "nbformat_minor": 2
}
