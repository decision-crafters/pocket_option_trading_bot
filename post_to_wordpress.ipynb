{
 "cells": [
  {
   "cell_type": "code",
   "execution_count": null,
   "metadata": {},
   "outputs": [],
   "source": [
    "# Step 1: Install Necessary Libraries\n",
    "!pip install -q pandas requests\n",
    "#!pip uninstall markdown -y\n",
    "!pip install markdown\n"
   ]
  },
  {
   "cell_type": "code",
   "execution_count": null,
   "metadata": {},
   "outputs": [],
   "source": [
    "# Step 2: Import Libraries\n",
    "import pandas as pd\n",
    "import requests\n",
    "from requests.auth import HTTPBasicAuth\n",
    "import markdown\n",
    "import os\n"
   ]
  },
  {
   "cell_type": "code",
   "execution_count": null,
   "metadata": {},
   "outputs": [],
   "source": [
    "import os\n",
    "env_vars = !cat .env\n",
    "for var in env_vars:\n",
    "    key, value = var.split('=')\n",
    "    print(key)\n",
    "    #print(value)\n",
    "    os.environ[key] = value"
   ]
  },
  {
   "cell_type": "code",
   "execution_count": null,
   "metadata": {},
   "outputs": [],
   "source": [
    "# Step 3: Load Data\n",
    "# Read report.txt which is a markdown file\n",
    "with open('report.txt', 'r') as file:\n",
    "    report_content = file.read()\n",
    "\n",
    "# Step 4: Load SEO Keywords\n",
    "# Read SEO keywords from 'seo_report.md'\n",
    "with open('seo_report.md', 'r') as file:\n",
    "    seo_content = file.read()"
   ]
  },
  {
   "cell_type": "code",
   "execution_count": null,
   "metadata": {},
   "outputs": [],
   "source": [
    "# Extract keywords assuming they are listed after 'SEO Keywords:'\n",
    "import re\n",
    "keywords_match = re.search(r'SEO Keywords:\\s*(.*)', seo_content)\n",
    "if keywords_match:\n",
    "    seo_keywords = keywords_match.group(1)\n",
    "else:\n",
    "    seo_keywords = \"\"\n",
    "\n",
    "print(seo_keywords)\n"
   ]
  },
  {
   "cell_type": "code",
   "execution_count": null,
   "metadata": {},
   "outputs": [],
   "source": [
    "# Step 5: Load CSV Data\n",
    "# Read output.csv which contains the recommendations in a tabular format\n",
    "output_data = pd.read_csv('output.csv')\n",
    "\n",
    "# Convert the CSV data to an HTML table\n",
    "output_html_table = output_data.to_html(index=False)\n",
    "print(output_html_table)\n"
   ]
  },
  {
   "cell_type": "code",
   "execution_count": null,
   "metadata": {},
   "outputs": [],
   "source": [
    "# Step 6: Process Data\n",
    "# Add SEO keywords to the post content\n",
    "report_content += f\"\\n\\n#### SEO Keywords:\\n{seo_keywords}\"\n",
    "\n",
    "# Convert Markdown to HTML\n",
    "post_content_html = markdown.markdown(report_content)\n",
    "\n",
    "# Append the HTML table to the post content\n",
    "post_content_html += f\"<h3>Forex Trade Recommendations Table</h3>\\n{output_html_table}\"\n"
   ]
  },
  {
   "cell_type": "code",
   "execution_count": null,
   "metadata": {},
   "outputs": [],
   "source": [
    "# Step 7: Generate WordPress Post\n",
    "# Define your WordPress site and API credentials\n",
    "wordpress_site = \"https://\" + str(os.getenv('WORDPRESS_URL'))\n",
    "api_endpoint = f\"{wordpress_site}/wp-json/wp/v2/posts\"\n",
    "username = os.getenv('WORDPRESS_USERNAME')\n",
    "print(username)\n",
    "password = os.getenv('WORDPRESS_PASSWORD')\n",
    "print(password)\n",
    "\n",
    "# Category ID (replace with your actual category ID)\n",
    "category_id = 17\n",
    "\n",
    "# Create the post data\n",
    "post_data = {\n",
    "    'title': 'Forex Trade Recommendations for 2024-06-29 19:10 UTC',\n",
    "    'content': post_content_html,\n",
    "    'status': 'publish',  # or 'draft' if you want to review before publishing\n",
    "    'categories': [category_id],  # Add category ID(s) here\n",
    "    'meta': {\n",
    "        'seo_keywords': seo_keywords  # Custom meta field for SEO keywords\n",
    "    }\n",
    "}"
   ]
  },
  {
   "cell_type": "code",
   "execution_count": null,
   "metadata": {},
   "outputs": [],
   "source": [
    "# Make the API request\n",
    "response = requests.post(api_endpoint, json=post_data, auth=HTTPBasicAuth(username, password))\n",
    "\n",
    "# Check the response\n",
    "if response.status_code == 201:\n",
    "    print(\"Post created successfully!\")\n",
    "else:\n",
    "    print(\"Failed to create post:\", response.status_code, response.text)"
   ]
  },
  {
   "cell_type": "code",
   "execution_count": null,
   "metadata": {},
   "outputs": [],
   "source": []
  },
  {
   "cell_type": "code",
   "execution_count": null,
   "metadata": {},
   "outputs": [],
   "source": []
  },
  {
   "cell_type": "code",
   "execution_count": null,
   "metadata": {},
   "outputs": [],
   "source": []
  }
 ],
 "metadata": {
  "kernelspec": {
   "display_name": "Python 3",
   "language": "python",
   "name": "python3"
  },
  "language_info": {
   "codemirror_mode": {
    "name": "ipython",
    "version": 3
   },
   "file_extension": ".py",
   "mimetype": "text/x-python",
   "name": "python",
   "nbconvert_exporter": "python",
   "pygments_lexer": "ipython3",
   "version": "3.12.3"
  }
 },
 "nbformat": 4,
 "nbformat_minor": 2
}
