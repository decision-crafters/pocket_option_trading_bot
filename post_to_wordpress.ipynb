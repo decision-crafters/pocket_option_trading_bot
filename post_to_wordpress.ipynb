{
 "cells": [
  {
   "cell_type": "code",
   "execution_count": null,
   "metadata": {},
   "outputs": [],
   "source": [
    "# Step 1: Install Necessary Libraries\n",
    "!pip install -q pandas requests\n",
    "#!pip uninstall markdown -y\n",
    "!pip install markdown\n"
   ]
  },
  {
   "cell_type": "code",
   "execution_count": null,
   "metadata": {},
   "outputs": [],
   "source": [
    "# Step 2: Import Libraries\n",
    "import pandas as pd\n",
    "import requests\n",
    "from requests.auth import HTTPBasicAuth\n",
    "import markdown\n",
    "import os\n"
   ]
  },
  {
   "cell_type": "code",
   "execution_count": null,
   "metadata": {},
   "outputs": [],
   "source": [
    "import os\n",
    "env_vars = !cat .env\n",
    "for var in env_vars:\n",
    "    key, value = var.split('=')\n",
    "    print(key)\n",
    "    #print(value)\n",
    "    os.environ[key] = value"
   ]
  },
  {
   "cell_type": "code",
   "execution_count": null,
   "metadata": {},
   "outputs": [],
   "source": [
    "# Step 3: Load Data\n",
    "# Read report.txt which is a markdown file\n",
    "with open('report.txt', 'r') as file:\n",
    "    report_content = file.read()\n",
    "\n",
    "# Step 4: Load SEO Keywords\n",
    "# Read SEO keywords from 'seo_report.md'\n",
    "with open('seo_report.md', 'r') as file:\n",
    "    seo_content = file.read()"
   ]
  },
  {
   "cell_type": "code",
   "execution_count": null,
   "metadata": {},
   "outputs": [],
   "source": [
    "# Extract keywords assuming they are listed after 'SEO Keywords:'\n",
    "import re\n",
    "keywords_match = re.search(r'SEO Keywords:\\s*(.*)', seo_content)\n",
    "if keywords_match:\n",
    "    seo_keywords = keywords_match.group(1)\n",
    "else:\n",
    "    seo_keywords = \"\"\n",
    "\n",
    "print(seo_keywords)\n"
   ]
  },
  {
   "cell_type": "code",
   "execution_count": null,
   "metadata": {},
   "outputs": [],
   "source": [
    "# Step 5: Load CSV Data\n",
    "# Read output.csv which contains the recommendations in a tabular format\n",
    "output_data = pd.read_csv('output.csv')\n",
    "\n",
    "# Convert the CSV data to an HTML table\n",
    "output_html_table = output_data.to_html(index=False)\n",
    "print(output_html_table)\n"
   ]
  },
  {
   "cell_type": "code",
   "execution_count": null,
   "metadata": {},
   "outputs": [],
   "source": [
    "# Step 6: Process Data\n",
    "# Add SEO keywords to the post content\n",
    "#report_content += f\"\\n\\n#### SEO Keywords:\\n{seo_keywords}\"\n",
    "\n",
    "# Convert Markdown to HTML\n",
    "post_content_html = markdown.markdown(report_content)\n",
    "\n",
    "# Define CSS styles for the table\n",
    "table_styles = \"\"\"\n",
    "<style>\n",
    "    .forex-table {\n",
    "        width: 100%;\n",
    "        border-collapse: collapse;\n",
    "        margin-top: 20px;\n",
    "    }\n",
    "    .forex-table th, .forex-table td {\n",
    "        border: 1px solid #ddd;\n",
    "        padding: 8px;\n",
    "        text-align: left;\n",
    "    }\n",
    "    .forex-table th {\n",
    "        background-color: #f2f2f2;\n",
    "    }\n",
    "    .forex-table tr:nth-child(even) {\n",
    "        background-color: #f9f9f9;\n",
    "    }\n",
    "</style>\n",
    "\"\"\"\n",
    "\n",
    "# Append the styled HTML table to the post content\n",
    "# Ensure your HTML table string (`output_html_table`) has the class 'forex-table'\n",
    "# You might need to adjust how you generate or modify `output_html_table` to include this class\n",
    "post_content_html += f\"{table_styles}<h3>Forex Trade Recommendations Table</h3>\\n<table class='forex-table'>{output_html_table}</table>\""
   ]
  },
  {
   "cell_type": "code",
   "execution_count": null,
   "metadata": {},
   "outputs": [],
   "source": [
    "def get_tag_ids(tag_names):\n",
    "    # This function should query your WordPress for tag names and return their IDs.\n",
    "    # For simplicity, let's assume it returns a static mapping for the example tag names.\n",
    "    # In a real scenario, you'd query the WordPress API or have a pre-defined mapping.\n",
    "    tag_name_to_id = {\n",
    "        'forex': 24,  # Example ID\n",
    "        'trade recommendations': 28,  # Example ID\n",
    "        'forex market analysis': 27,  # Example ID\n",
    "        'recommendations': 26\n",
    "    }\n",
    "    return [tag_name_to_id[tag] for tag in tag_names if tag in tag_name_to_id]\n"
   ]
  },
  {
   "cell_type": "code",
   "execution_count": null,
   "metadata": {},
   "outputs": [],
   "source": [
    "import random\n",
    "# Step 7: Generate WordPress Post\n",
    "# Define your WordPress site and API credentials\n",
    "wordpress_site = \"https://\" + str(os.getenv('WORDPRESS_URL'))\n",
    "api_endpoint = f\"{wordpress_site}/wp-json/wp/v2/posts\"\n",
    "username = 'XXXXXXXXXXX' #os.getenv('WORDPRESS_USERNAME')\n",
    "#sprint(username)\n",
    "password = 'XXXXXXXXXXX' #os.getenv('WORDPRESS_PASSWORD')\n",
    "#print(password)\n",
    "\n",
    "# Category ID (replace with your actual category ID)\n",
    "category_id = 17\n",
    "image_list = [\"197\",\"195\",\"196\", \"197\", \"198\", \"199\", \"201\", \"202\", \"203\", \"204\", \"205\", \"237\", \"238\", \"239\" , \"235\"]\n",
    "random_image_list = random.choice(image_list)\n",
    "# Get the tag IDs\n",
    "tag_names = ['forex', 'forex market analysis', 'trade recommendations']\n",
    "tag_ids = get_tag_ids(tag_names)\n",
    "print(tag_ids)\n",
    "\n",
    "# Open report.txt and read the first line to use as the title\n",
    "with open('report.txt', 'r') as file:\n",
    "    title = file.readline().strip().replace('#', '') # .strip() removes any leading/trailing whitespace or newline characters\n",
    "\n",
    "# Create the post data\n",
    "post_data = {\n",
    "    'title': title,\n",
    "    'content': post_content_html,\n",
    "    'status': 'draft',  # 'publish'or 'draft' if you want to review before publishing\n",
    "    'featured_media': random_image_list,\n",
    "    'categories': [category_id],\n",
    "    'tags': tag_ids,  # Use the list of tag IDs\n",
    "}\n",
    "\n"
   ]
  },
  {
   "cell_type": "code",
   "execution_count": null,
   "metadata": {},
   "outputs": [],
   "source": [
    "# Make the API request\n",
    "response = requests.post(api_endpoint, json=post_data, auth=HTTPBasicAuth(username, password))\n",
    "\n",
    "# Check the response\n",
    "if response.status_code == 201:\n",
    "    print(\"Post created successfully!\")\n",
    "else:\n",
    "    print(\"Failed to create post:\", response.status_code, response.text)"
   ]
  },
  {
   "cell_type": "code",
   "execution_count": null,
   "metadata": {},
   "outputs": [],
   "source": []
  },
  {
   "cell_type": "code",
   "execution_count": null,
   "metadata": {},
   "outputs": [],
   "source": []
  },
  {
   "cell_type": "code",
   "execution_count": null,
   "metadata": {},
   "outputs": [],
   "source": []
  }
 ],
 "metadata": {
  "kernelspec": {
   "display_name": "Python 3",
   "language": "python",
   "name": "python3"
  },
  "language_info": {
   "codemirror_mode": {
    "name": "ipython",
    "version": 3
   },
   "file_extension": ".py",
   "mimetype": "text/x-python",
   "name": "python",
   "nbconvert_exporter": "python",
   "pygments_lexer": "ipython3",
   "version": "3.12.undefined"
  }
 },
 "nbformat": 4,
 "nbformat_minor": 2
}
