{
 "cells": [
  {
   "cell_type": "code",
   "execution_count": null,
   "metadata": {},
   "outputs": [],
   "source": [
    "!pip install -q -r requirements.txt"
   ]
  },
  {
   "cell_type": "code",
   "execution_count": null,
   "metadata": {},
   "outputs": [],
   "source": [
    "import os\n",
    "import re\n",
    "import requests\n",
    "from collections import Counter\n",
    "from sklearn.feature_extraction.text import ENGLISH_STOP_WORDS\n",
    "from nltk.tokenize import word_tokenize\n",
    "from nltk.corpus import stopwords\n",
    "import nltk\n",
    "\n"
   ]
  },
  {
   "cell_type": "code",
   "execution_count": null,
   "metadata": {},
   "outputs": [],
   "source": [
    "# Download NLTK data files\n",
    "nltk.download('punkt')\n",
    "nltk.download('stopwords')"
   ]
  },
  {
   "cell_type": "code",
   "execution_count": null,
   "metadata": {},
   "outputs": [],
   "source": [
    "import os\n",
    "env_vars = !cat .env\n",
    "for var in env_vars:\n",
    "    key, value = var.split('=')\n",
    "    print(key)\n",
    "    #print(value)\n",
    "    os.environ[key] = value"
   ]
  },
  {
   "cell_type": "code",
   "execution_count": null,
   "metadata": {},
   "outputs": [],
   "source": [
    "# Function to read the file\n",
    "def read_file(file_path):\n",
    "    with open(file_path, 'r') as file:\n",
    "        return file.read()\n"
   ]
  },
  {
   "cell_type": "code",
   "execution_count": null,
   "metadata": {},
   "outputs": [],
   "source": [
    "# Function to preprocess text: remove punctuation, lowercase, remove stopwords\n",
    "def preprocess_text(text):\n",
    "    text = re.sub(r'[^\\w\\s]', '', text)  # Remove punctuation\n",
    "    text = text.lower()  # Convert to lowercase\n",
    "    words = word_tokenize(text)\n",
    "    words = [word for word in words if word not in stopwords.words('english')]  # Remove stopwords\n",
    "    return ' '.join(words)\n"
   ]
  },
  {
   "cell_type": "code",
   "execution_count": null,
   "metadata": {},
   "outputs": [],
   "source": [
    "# Function to extract keywords\n",
    "def extract_keywords(text, num_keywords=10):\n",
    "    words = word_tokenize(text)\n",
    "    filtered_words = [word for word in words if word.lower() not in stopwords.words('english')]\n",
    "    word_counts = Counter(filtered_words)\n",
    "    return [word for word, _ in word_counts.most_common(num_keywords)]"
   ]
  },
  {
   "cell_type": "code",
   "execution_count": null,
   "metadata": {},
   "outputs": [],
   "source": [
    "# Function to generate long-tail keywords using SERPER API\n",
    "def serper_api_keywords(keyword):\n",
    "    api_key = \"YOUR_SERPER_API_KEY\"\n",
    "    url = \"https://serpapi.com/search\"\n",
    "    params = {\n",
    "        \"q\": keyword,\n",
    "        \"api_key\": api_key\n",
    "    }\n",
    "    response = requests.get(url, params=params)\n",
    "    data = response.json()\n",
    "    long_tail_keywords = []\n",
    "    if \"related_searches\" in data:\n",
    "        for item in data[\"related_searches\"]:\n",
    "            long_tail_keywords.append(item[\"query\"])\n",
    "    return long_tail_keywords\n"
   ]
  },
  {
   "cell_type": "code",
   "execution_count": null,
   "metadata": {},
   "outputs": [],
   "source": [
    "# Function to generate long-tail keywords based on context\n",
    "def generate_long_tail_keywords(keywords, context):\n",
    "    long_tail_keywords = []\n",
    "    for keyword in keywords:\n",
    "        for ctx in context:\n",
    "            long_tail_keywords.append(f\"{keyword} {ctx}\")\n",
    "    return long_tail_keywords"
   ]
  },
  {
   "cell_type": "code",
   "execution_count": null,
   "metadata": {},
   "outputs": [],
   "source": [
    "# Function to generate SEO content\n",
    "def generate_seo_content(text, context):\n",
    "    summary = text[:5000] + \"...\"  # Take the first 1000 characters as a summary\n",
    "    cleaned_summary_text = preprocess_text(summary)\n",
    "    \n",
    "    # Extract keywords from the text\n",
    "    keywords = extract_keywords(cleaned_summary_text)\n",
    "    \n",
    "    # Generate long-tail keywords using SERPER API\n",
    "    additional_keywords = []\n",
    "    for keyword in keywords:\n",
    "        additional_keywords.extend(serper_api_keywords(keyword))\n",
    "    \n",
    "    # Generate long-tail keywords based on context\n",
    "    long_tail_keywords = generate_long_tail_keywords(keywords, context)\n",
    "    \n",
    "    all_keywords = list(set(keywords + additional_keywords + long_tail_keywords))[:30]  # Ensure unique and take only top 30\n",
    "    \n",
    "    seo_content = []\n",
    "    seo_content.append(\"Summary:\\n\")\n",
    "    seo_content.append(summary + \"\\n\\n\")\n",
    "    seo_content.append(\"SEO Keywords:\\n\")\n",
    "    seo_content.append(', '.join(all_keywords) + \"\\n\")\n",
    "    \n",
    "    return ''.join(seo_content)"
   ]
  },
  {
   "cell_type": "code",
   "execution_count": null,
   "metadata": {},
   "outputs": [],
   "source": [
    "# Function to write the SEO content to a file\n",
    "def write_seo_file(seo_content, output_file):\n",
    "    with open(output_file, 'w') as file:\n",
    "        file.writelines(seo_content)\n",
    "\n",
    "# Main function to execute the tasks\n",
    "def main():\n",
    "    # Step 1: Read the report file\n",
    "    report = read_file('report.txt')\n",
    "    context = [\n",
    "    \"today's forex sentiment\",\n",
    "    \"morning forex trading\",\n",
    "    \"afternoon forex analysis\",\n",
    "    \"evening forex trends\",\n",
    "    \"forex market updates\",\n",
    "    \"daily forex predictions\",\n",
    "    \"forex trading tips\",\n",
    "    \"forex risk management\",\n",
    "    \"forex technical analysis\",\n",
    "    \"forex fundamental analysis\"\n",
    "]\n",
    "\n",
    "    \n",
    "    # Step 2: Generate SEO content\n",
    "    seo_content = generate_seo_content(report, context)\n",
    "    \n",
    "    # Step 3: Write the SEO content to a new file\n",
    "    write_seo_file(seo_content, 'seo_report.md')\n",
    "\n",
    "if __name__ == \"__main__\":\n",
    "    main()"
   ]
  }
 ],
 "metadata": {
  "kernelspec": {
   "display_name": "Python 3",
   "language": "python",
   "name": "python3"
  },
  "language_info": {
   "codemirror_mode": {
    "name": "ipython",
    "version": 3
   },
   "file_extension": ".py",
   "mimetype": "text/x-python",
   "name": "python",
   "nbconvert_exporter": "python",
   "pygments_lexer": "ipython3",
   "version": "3.12.3"
  }
 },
 "nbformat": 4,
 "nbformat_minor": 2
}
